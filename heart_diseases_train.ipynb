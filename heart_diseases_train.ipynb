{
 "cells": [
  {
   "cell_type": "code",
   "execution_count": 1,
   "id": "d1c5b92f",
   "metadata": {},
   "outputs": [],
   "source": [
    "import pandas as pd\n",
    "\n",
    "from sklearn.preprocessing import StandardScaler, OneHotEncoder, FunctionTransformer\n",
    "from sklearn.compose import ColumnTransformer, make_column_transformer\n",
    "from sklearn.pipeline import Pipeline, make_pipeline\n",
    "from sklearn.model_selection import RandomizedSearchCV\n",
    "\n",
    "from xgboost import XGBClassifier\n",
    "\n",
    "from joblib import dump, load\n",
    "\n",
    "RANDOM_STATE = 7\n",
    "CV = 3\n",
    "\n",
    "pd.set_option('display.max_columns', None)\n"
   ]
  },
  {
   "cell_type": "code",
   "execution_count": 2,
   "id": "a794d557",
   "metadata": {},
   "outputs": [],
   "source": [
    "df = pd.read_csv('data/train.csv',index_col='id')\n",
    "test = pd.read_csv('data/test.csv',index_col='id')\n"
   ]
  },
  {
   "cell_type": "markdown",
   "id": "008648bd",
   "metadata": {},
   "source": [
    "# PROCESS DATA"
   ]
  },
  {
   "cell_type": "code",
   "execution_count": 5,
   "id": "ab53f118",
   "metadata": {},
   "outputs": [],
   "source": [
    "from custom_transformers import set_buckets,BMITransformer,APTransformer\n",
    "# вся предобработка вынесена в отдельный файл\n"
   ]
  },
  {
   "cell_type": "code",
   "execution_count": 6,
   "id": "6d8fd9d6",
   "metadata": {},
   "outputs": [],
   "source": [
    "X = df.drop('cardio',axis=1)\n",
    "y = df.cardio\n"
   ]
  },
  {
   "cell_type": "code",
   "execution_count": 4,
   "id": "253f23b6",
   "metadata": {},
   "outputs": [],
   "source": [
    "# добавим два тестовых признака\n",
    "def test_feature(X_):\n",
    "    X_ = X_.copy()\n",
    "    X_['test_feature']   = X_['ap_hi'] * X_['ap_lo']\n",
    "    X_['test_feature_2'] = X_['gluc']  * X_['cholesterol']\n",
    "    \n",
    "    return X_"
   ]
  },
  {
   "cell_type": "code",
   "execution_count": 7,
   "id": "105e67c3",
   "metadata": {},
   "outputs": [],
   "source": [
    "# предобработка данных – коррекция выбросов, заполнение пропущенных значений\n",
    "clean_the_data = make_pipeline(\n",
    "    FunctionTransformer(set_buckets),\n",
    "    BMITransformer(),\n",
    "    APTransformer(),\n",
    "    FunctionTransformer(test_feature),\n",
    ")\n",
    "\n",
    "# кодирование и масштабирование признаков\n",
    "to_scale  = ['age',\n",
    "             'bmi',\n",
    "             'weight_bucket',\n",
    "             'ap_hi',\n",
    "             'ap_lo',\n",
    "             'test_feature',\n",
    "             'test_feature_2',\n",
    "            ]\n",
    "\n",
    "to_encode = ['gender']\n",
    "\n",
    "to_pass = ['smoke',\n",
    "           'alco',\n",
    "           'active',\n",
    "           'cholesterol',\n",
    "           'gluc',\n",
    "          ]\n",
    "\n",
    "transformers = ColumnTransformer(transformers=[\n",
    "    ('cat', OneHotEncoder(drop='first'), to_encode),\n",
    "    ('num', StandardScaler(), to_scale),\n",
    "    ('pss', 'passthrough', to_pass)\n",
    "])\n",
    "\n",
    "# общий пайплайн по предобработке\n",
    "preprocess = make_pipeline(\n",
    "    clean_the_data,\n",
    "    transformers\n",
    ")    \n"
   ]
  },
  {
   "cell_type": "markdown",
   "id": "3f9cf44e",
   "metadata": {},
   "source": [
    "# XGBOOST"
   ]
  },
  {
   "cell_type": "code",
   "execution_count": 3,
   "id": "5056ccac",
   "metadata": {},
   "outputs": [],
   "source": [
    "# вывод важности признаков\n",
    "def show_feature_importances(model):\n",
    "    all_names = model[0][1].get_feature_names_out()\n",
    "    display(pd.DataFrame({'features':all_names,\n",
    "                          'feature_importances':model._final_estimator.feature_importances_}) \\\n",
    "              .sort_values(by='feature_importances',ascending=False))\n"
   ]
  },
  {
   "cell_type": "code",
   "execution_count": 8,
   "id": "46753819",
   "metadata": {
    "scrolled": false
   },
   "outputs": [
    {
     "name": "stdout",
     "output_type": "stream",
     "text": [
      "Fitting 3 folds for each of 50 candidates, totalling 150 fits\n"
     ]
    },
    {
     "data": {
      "text/plain": [
       "0.803849196090708"
      ]
     },
     "metadata": {},
     "output_type": "display_data"
    },
    {
     "data": {
      "text/plain": [
       "{'xgb__subsample': 0.6,\n",
       " 'xgb__reg_lambda': 1,\n",
       " 'xgb__reg_alpha': 3,\n",
       " 'xgb__n_estimators': 600,\n",
       " 'xgb__max_depth': 3,\n",
       " 'xgb__learning_rate': 0.05,\n",
       " 'xgb__gamma': 0,\n",
       " 'xgb__colsample_bytree': 0.6}"
      ]
     },
     "metadata": {},
     "output_type": "display_data"
    },
    {
     "data": {
      "text/html": [
       "<div>\n",
       "<style scoped>\n",
       "    .dataframe tbody tr th:only-of-type {\n",
       "        vertical-align: middle;\n",
       "    }\n",
       "\n",
       "    .dataframe tbody tr th {\n",
       "        vertical-align: top;\n",
       "    }\n",
       "\n",
       "    .dataframe thead th {\n",
       "        text-align: right;\n",
       "    }\n",
       "</style>\n",
       "<table border=\"1\" class=\"dataframe\">\n",
       "  <thead>\n",
       "    <tr style=\"text-align: right;\">\n",
       "      <th></th>\n",
       "      <th>features</th>\n",
       "      <th>feature_importances</th>\n",
       "    </tr>\n",
       "  </thead>\n",
       "  <tbody>\n",
       "    <tr>\n",
       "      <th>4</th>\n",
       "      <td>num__ap_hi</td>\n",
       "      <td>0.394997</td>\n",
       "    </tr>\n",
       "    <tr>\n",
       "      <th>6</th>\n",
       "      <td>num__test_feature</td>\n",
       "      <td>0.206722</td>\n",
       "    </tr>\n",
       "    <tr>\n",
       "      <th>11</th>\n",
       "      <td>pss__cholesterol</td>\n",
       "      <td>0.138097</td>\n",
       "    </tr>\n",
       "    <tr>\n",
       "      <th>1</th>\n",
       "      <td>num__age</td>\n",
       "      <td>0.050053</td>\n",
       "    </tr>\n",
       "    <tr>\n",
       "      <th>7</th>\n",
       "      <td>num__test_feature_2</td>\n",
       "      <td>0.045975</td>\n",
       "    </tr>\n",
       "    <tr>\n",
       "      <th>5</th>\n",
       "      <td>num__ap_lo</td>\n",
       "      <td>0.032972</td>\n",
       "    </tr>\n",
       "    <tr>\n",
       "      <th>10</th>\n",
       "      <td>pss__active</td>\n",
       "      <td>0.027387</td>\n",
       "    </tr>\n",
       "    <tr>\n",
       "      <th>3</th>\n",
       "      <td>num__weight_bucket</td>\n",
       "      <td>0.022217</td>\n",
       "    </tr>\n",
       "    <tr>\n",
       "      <th>2</th>\n",
       "      <td>num__bmi</td>\n",
       "      <td>0.018752</td>\n",
       "    </tr>\n",
       "    <tr>\n",
       "      <th>12</th>\n",
       "      <td>pss__gluc</td>\n",
       "      <td>0.018129</td>\n",
       "    </tr>\n",
       "    <tr>\n",
       "      <th>8</th>\n",
       "      <td>pss__smoke</td>\n",
       "      <td>0.017890</td>\n",
       "    </tr>\n",
       "    <tr>\n",
       "      <th>9</th>\n",
       "      <td>pss__alco</td>\n",
       "      <td>0.015310</td>\n",
       "    </tr>\n",
       "    <tr>\n",
       "      <th>0</th>\n",
       "      <td>cat__gender_2</td>\n",
       "      <td>0.011500</td>\n",
       "    </tr>\n",
       "  </tbody>\n",
       "</table>\n",
       "</div>"
      ],
      "text/plain": [
       "               features  feature_importances\n",
       "4            num__ap_hi             0.394997\n",
       "6     num__test_feature             0.206722\n",
       "11     pss__cholesterol             0.138097\n",
       "1              num__age             0.050053\n",
       "7   num__test_feature_2             0.045975\n",
       "5            num__ap_lo             0.032972\n",
       "10          pss__active             0.027387\n",
       "3    num__weight_bucket             0.022217\n",
       "2              num__bmi             0.018752\n",
       "12            pss__gluc             0.018129\n",
       "8            pss__smoke             0.017890\n",
       "9             pss__alco             0.015310\n",
       "0         cat__gender_2             0.011500"
      ]
     },
     "metadata": {},
     "output_type": "display_data"
    },
    {
     "name": "stdout",
     "output_type": "stream",
     "text": [
      "CPU times: user 42.9 s, sys: 10.4 s, total: 53.3 s\n",
      "Wall time: 13min 17s\n"
     ]
    }
   ],
   "source": [
    "%%time\n",
    "\n",
    "# пайплайн модели\n",
    "pipe_xgb = Pipeline(steps=[\n",
    "    ('pre', preprocess),\n",
    "    ('xgb', XGBClassifier(random_state=RANDOM_STATE))\n",
    "])    \n",
    "\n",
    "# гиперпараметры модели для оптимизации\n",
    "xgb_params = {\n",
    "    'xgb__learning_rate': [0.01, 0.05, 0.1, 0.25, 0.5],\n",
    "    'xgb__max_depth': [3, 5, 8, 10, 12, 16],\n",
    "    'xgb__n_estimators': range(200, 601, 20),\n",
    "    'xgb__gamma': [0, 0.1, 0.5],\n",
    "    'xgb__subsample': [0.2, 0.4, 0.6, 0.8, 1],\n",
    "    'xgb__colsample_bytree': [0.2, 0.4, 0.6, 0.8, 1],\n",
    "    'xgb__reg_alpha': [0, 1, 2, 3, 4, 5, 10],\n",
    "    'xgb__reg_lambda': [0, 1, 2, 3, 4, 5, 10]\n",
    "}\n",
    "\n",
    "# поиск оптимальной модели по roc_auc\n",
    "xgb = RandomizedSearchCV(pipe_xgb, \n",
    "                 xgb_params, \n",
    "                 n_iter=50,              \n",
    "                 scoring='roc_auc', \n",
    "                 verbose=1,\n",
    "                 n_jobs=-1, \n",
    "                 cv=CV)\n",
    "\n",
    "xgb.fit(X,y)\n",
    "\n",
    "# вывод лучшей метрики и параметров\n",
    "display(xgb.best_score_)\n",
    "display(xgb.best_params_)\n",
    "\n",
    "xgb_best = xgb.best_estimator_\n",
    "\n",
    "# вывод важности признаков\n",
    "show_feature_importances(xgb_best)\n"
   ]
  },
  {
   "cell_type": "markdown",
   "id": "2334ce46",
   "metadata": {},
   "source": [
    "# RESULTS"
   ]
  },
  {
   "cell_type": "code",
   "execution_count": 11,
   "id": "09648c17",
   "metadata": {},
   "outputs": [],
   "source": [
    "# экспорт результатов – модели, предобработки и предсказания\n",
    "\n",
    "def export_result(model):\n",
    "    model.fit(X,y)\n",
    "    predict_proba = model.predict_proba(test)[:,1]\n",
    "\n",
    "    pd.DataFrame(index=test.index,\n",
    "                 data=predict_proba,\n",
    "                 columns=['cardio']) \\\n",
    "      .to_csv('test_predict_proba.csv')\n",
    "        \n",
    "    '''\n",
    "    Коррекция признаков, поиск ошибок, выбросы, заполнение пропусков \n",
    "    – эти процедуры актуальны для датасетов, например для архивных данных.\n",
    "    \n",
    "    Для интерактивного приложения с предсказанием \n",
    "    по единственному набору – можно ограничить предобработку \n",
    "    стандартным масштабированием и кодированием.\n",
    "    \n",
    "    Поэтому выгружаем не целиком весь процесс, а только избранное )\n",
    "    '''\n",
    "\n",
    "    dump(model[0][1], 'scaler_encoder.joblib') \n",
    "    dump(model[1], 'XGB_classifier.joblib') \n"
   ]
  },
  {
   "cell_type": "code",
   "execution_count": 12,
   "id": "2b555523",
   "metadata": {
    "scrolled": false
   },
   "outputs": [],
   "source": [
    "export_result(xgb_best)\n"
   ]
  },
  {
   "cell_type": "code",
   "execution_count": null,
   "id": "8546dbb6",
   "metadata": {},
   "outputs": [],
   "source": []
  }
 ],
 "metadata": {
  "kernelspec": {
   "display_name": "Python 3 (ipykernel)",
   "language": "python",
   "name": "python3"
  },
  "language_info": {
   "codemirror_mode": {
    "name": "ipython",
    "version": 3
   },
   "file_extension": ".py",
   "mimetype": "text/x-python",
   "name": "python",
   "nbconvert_exporter": "python",
   "pygments_lexer": "ipython3",
   "version": "3.9.13"
  }
 },
 "nbformat": 4,
 "nbformat_minor": 5
}
