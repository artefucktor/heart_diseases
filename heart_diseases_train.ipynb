{
 "cells": [
  {
   "cell_type": "code",
   "execution_count": null,
   "id": "d1c5b92f",
   "metadata": {},
   "outputs": [],
   "source": [
    "import pandas as pd\n",
    "from joblib import dump, load\n",
    "\n",
    "from xgboost import XGBClassifier\n",
    "\n",
    "from sklearn.compose import ColumnTransformer\n",
    "from sklearn.preprocessing import StandardScaler, OneHotEncoder, FunctionTransformer\n",
    "from sklearn.pipeline import Pipeline, make_pipeline\n",
    "from sklearn.ensemble import RandomForestClassifier\n",
    "from sklearn.model_selection import RandomizedSearchCV\n"
   ]
  },
  {
   "cell_type": "code",
   "execution_count": null,
   "id": "7c626832",
   "metadata": {},
   "outputs": [],
   "source": [
    "# общие настройки\n",
    "RANDOM_STATE = 7\n",
    "SEARCH_PARAMS = {\n",
    "    'scoring': 'roc_auc',\n",
    "    'refit'  : True,\n",
    "    'n_iter' : 50,              \n",
    "    'n_jobs' : -1, \n",
    "    'verbose': 1,\n",
    "    'cv'     : 3\n",
    "}\n"
   ]
  },
  {
   "cell_type": "markdown",
   "id": "008648bd",
   "metadata": {},
   "source": [
    "# PROCESS DATA"
   ]
  },
  {
   "cell_type": "code",
   "execution_count": null,
   "id": "a794d557",
   "metadata": {},
   "outputs": [],
   "source": [
    "df = pd.read_csv('data/train.csv',index_col='id')\n",
    "test = pd.read_csv('data/test.csv',index_col='id')\n"
   ]
  },
  {
   "cell_type": "code",
   "execution_count": null,
   "id": "6d8fd9d6",
   "metadata": {},
   "outputs": [],
   "source": [
    "X = df.drop('cardio',axis=1)\n",
    "y = df.cardio\n"
   ]
  },
  {
   "cell_type": "code",
   "execution_count": null,
   "id": "253f23b6",
   "metadata": {},
   "outputs": [],
   "source": [
    "# приготовим два тестовых признака\n",
    "def test_feature(X_):\n",
    "    X_ = X_.copy()\n",
    "    X_['test_feature']   = X_['ap_hi'] * X_['ap_lo']\n",
    "    X_['test_feature_2'] = X_['gluc']  * X_['cholesterol']\n",
    "    \n",
    "    return X_"
   ]
  },
  {
   "cell_type": "code",
   "execution_count": null,
   "id": "105e67c3",
   "metadata": {},
   "outputs": [],
   "source": [
    "# вся предобработка вынесена в отдельный файл\n",
    "from custom_transformers import set_buckets, BMITransformer, APTransformer\n",
    "\n",
    "# коррекция выбросов, заполнение пропущенных значений\n",
    "# добавление экспериментальных признаков\n",
    "clean_the_data = make_pipeline(\n",
    "    FunctionTransformer(set_buckets),\n",
    "    BMITransformer(),\n",
    "    APTransformer(),\n",
    "    FunctionTransformer(test_feature),\n",
    ")\n",
    "\n",
    "# кодирование и масштабирование\n",
    "to_scale  = ['age',\n",
    "             'bmi',\n",
    "             'weight_bucket',\n",
    "             'ap_hi',\n",
    "             'ap_lo',\n",
    "             'test_feature',\n",
    "             'test_feature_2',\n",
    "            ]\n",
    "\n",
    "to_encode = ['gender']\n",
    "\n",
    "to_pass = ['smoke',\n",
    "           'alco',\n",
    "           'active',\n",
    "           'cholesterol',\n",
    "           'gluc',\n",
    "          ]\n",
    "\n",
    "transformers = ColumnTransformer(transformers=[\n",
    "    ('cat', OneHotEncoder(drop='first'), to_encode),\n",
    "    ('num', StandardScaler(), to_scale),\n",
    "    ('pss', 'passthrough', to_pass)\n",
    "])\n",
    "\n",
    "# общий пайплайн с предобработкой\n",
    "preprocess = make_pipeline(\n",
    "    clean_the_data,\n",
    "    transformers\n",
    ")    \n"
   ]
  },
  {
   "cell_type": "code",
   "execution_count": null,
   "id": "5056ccac",
   "metadata": {},
   "outputs": [],
   "source": [
    "# функция вывода важности признаков\n",
    "def show_feature_importances(model):\n",
    "    all_names = model[0][-1].get_feature_names_out()\n",
    "    display(pd.DataFrame({'features':all_names,\n",
    "                          'feature_importances':model._final_estimator.feature_importances_}) \\\n",
    "              .sort_values(by='feature_importances',ascending=False))\n"
   ]
  },
  {
   "cell_type": "markdown",
   "id": "3f9cf44e",
   "metadata": {},
   "source": [
    "# XGBOOST"
   ]
  },
  {
   "cell_type": "code",
   "execution_count": null,
   "id": "46753819",
   "metadata": {
    "scrolled": false
   },
   "outputs": [],
   "source": [
    "%%time\n",
    "\n",
    "# пайплайн модели\n",
    "pipe_xgb = Pipeline(steps=[\n",
    "    ('pre', preprocess),\n",
    "    ('xgb', XGBClassifier(random_state=RANDOM_STATE))\n",
    "])    \n",
    "\n",
    "# гиперпараметры для оптимизации\n",
    "xgb_params = {\n",
    "    'xgb__learning_rate': [0.01, 0.05, 0.1, 0.25, 0.5],\n",
    "    'xgb__max_depth': [3, 5, 8, 10, 12, 16],\n",
    "    'xgb__n_estimators': range(200, 601, 20),\n",
    "    'xgb__gamma': [0, 0.1, 0.5],\n",
    "    'xgb__subsample': [0.2, 0.4, 0.6, 0.8, 1],\n",
    "    'xgb__colsample_bytree': [0.2, 0.4, 0.6, 0.8, 1],\n",
    "    'xgb__reg_alpha': [0, 1, 2, 3, 4, 5, 10],\n",
    "    'xgb__reg_lambda': [0, 1, 2, 3, 4, 5, 10]\n",
    "}\n",
    "\n",
    "# поиск оптимальной модели по roc_auc\n",
    "xgb = RandomizedSearchCV(pipe_xgb,\n",
    "                         xgb_params,\n",
    "                         **SEARCH_PARAMS)\n",
    "\n",
    "xgb.fit(X,y)\n",
    "\n",
    "# вывод лучшей метрики и параметров\n",
    "display(xgb.best_score_)\n",
    "display(xgb.best_params_)\n",
    "\n",
    "xgb_best = xgb.best_estimator_\n",
    "\n",
    "# вывод важности признаков\n",
    "show_feature_importances(xgb_best)\n"
   ]
  },
  {
   "cell_type": "markdown",
   "id": "c79cc31f",
   "metadata": {},
   "source": [
    "# RANDOM FOREST"
   ]
  },
  {
   "cell_type": "code",
   "execution_count": null,
   "id": "d240f717",
   "metadata": {},
   "outputs": [],
   "source": [
    "%%time\n",
    "\n",
    "# пайплайн модели\n",
    "pipe_rfc = Pipeline(steps=[\n",
    "    ('pre',preprocess),\n",
    "    ('rfc', RandomForestClassifier(random_state=RANDOM_STATE))\n",
    "])\n",
    "\n",
    "rfc_params = {'rfc__n_estimators'     : range(200,601,20),\n",
    "              'rfc__min_samples_split': range(50,101,5),\n",
    "              'rfc__min_samples_leaf' : range(20,41,4),\n",
    "              'rfc__max_depth'        : [8,10,12,14,16,20,24],\n",
    "              } \n",
    "    \n",
    "rfc = RandomizedSearchCV(pipe_rfc,\n",
    "                         rfc_params,\n",
    "                         **SEARCH_PARAMS)\n",
    "\n",
    "rfc.fit(X,y)\n",
    "\n",
    "# вывод лучшей метрики и параметров\n",
    "display(rfc.best_score_)\n",
    "display(rfc.best_params_)\n",
    "\n",
    "rfc_best = rfc.best_estimator_\n",
    "\n",
    "# вывод важности признаков\n",
    "show_feature_importances(rfc_best)"
   ]
  },
  {
   "cell_type": "markdown",
   "id": "2334ce46",
   "metadata": {},
   "source": [
    "# RESULTS"
   ]
  },
  {
   "cell_type": "code",
   "execution_count": null,
   "id": "09648c17",
   "metadata": {},
   "outputs": [],
   "source": [
    "# экспорт результатов – модели, предобработки и предсказания\n",
    "\n",
    "def export_result(model):\n",
    "    \n",
    "    predict_proba = model.predict_proba(test)[:,1]\n",
    "\n",
    "    model_name = type(model[-1]).__name__\n",
    "\n",
    "    pd.DataFrame(index=test.index,\n",
    "                 data=predict_proba,\n",
    "                 columns=['cardio']) \\\n",
    "      .to_csv(model_name + '_test_predict_proba.csv')\n",
    "        \n",
    "    '''\n",
    "    Коррекция признаков, поиск ошибок, выбросы, заполнение пропусков \n",
    "    – эти процедуры актуальны для датасетов, например для архивных данных.\n",
    "    \n",
    "    Для интерактивного приложения с предсказанием \n",
    "    по единственному набору – можно ограничить предобработку \n",
    "    стандартным масштабированием и кодированием.\n",
    "    \n",
    "    Поэтому выгружаем избранное )\n",
    "    \n",
    "    1. кодирование-масштабирование\n",
    "    2. модель отдельно\n",
    "    3. полная версия пайплайна с предобработкой и моделью\n",
    "    '''\n",
    "    \n",
    "    dump(model[0][-1], model_name + '_scaler_encoder.joblib') \n",
    "    dump(model[-1], model_name + '_model.joblib') \n",
    "    dump(model, model_name + '_full_pipeline.joblib')\n"
   ]
  },
  {
   "cell_type": "code",
   "execution_count": null,
   "id": "2b555523",
   "metadata": {
    "scrolled": false
   },
   "outputs": [],
   "source": [
    "export_result(xgb_best)\n",
    "export_result(rfc_best)\n"
   ]
  }
 ],
 "metadata": {
  "kernelspec": {
   "display_name": "Python 3 (ipykernel)",
   "language": "python",
   "name": "python3"
  },
  "language_info": {
   "codemirror_mode": {
    "name": "ipython",
    "version": 3
   },
   "file_extension": ".py",
   "mimetype": "text/x-python",
   "name": "python",
   "nbconvert_exporter": "python",
   "pygments_lexer": "ipython3",
   "version": "3.9.13"
  }
 },
 "nbformat": 4,
 "nbformat_minor": 5
}
